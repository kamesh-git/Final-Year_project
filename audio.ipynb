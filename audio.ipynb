{
 "cells": [
  {
   "cell_type": "code",
   "execution_count": 2,
   "metadata": {},
   "outputs": [],
   "source": [
    "import pyttsx3\n",
    "\n",
    "# Initialize the TTS engine\n",
    "engine = pyttsx3.init()\n",
    "\n",
    "# Set properties (optional)\n",
    "engine.setProperty('rate', 150)  # Speed of speech\n",
    "\n",
    "# Set up audio output to Bluetooth speaker (change the device name as needed)\n",
    "engine.setProperty('audio_output', 'alsa:hw:1,0')  # Change device to your Bluetooth speaker\n",
    "\n",
    "# Text to be spoken\n",
    "text = \"Hello, this is a test. I am speaking through the Bluetooth speaker.\"\n",
    "\n",
    "# Convert text to speech\n",
    "engine.say(text)\n",
    "\n",
    "# Wait for speech to finish\n",
    "engine.runAndWait()\n"
   ]
  }
 ],
 "metadata": {
  "kernelspec": {
   "display_name": "Python 3",
   "language": "python",
   "name": "python3"
  },
  "language_info": {
   "codemirror_mode": {
    "name": "ipython",
    "version": 3
   },
   "file_extension": ".py",
   "mimetype": "text/x-python",
   "name": "python",
   "nbconvert_exporter": "python",
   "pygments_lexer": "ipython3",
   "version": "3.12.3"
  }
 },
 "nbformat": 4,
 "nbformat_minor": 2
}
