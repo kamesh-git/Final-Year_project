{
 "cells": [
  {
   "cell_type": "code",
   "execution_count": 1,
   "metadata": {},
   "outputs": [],
   "source": [
    "import cv2\n",
    "import matplotlib.pyplot as plt\n",
    "import numpy as np\n",
    "from IPython.display import clear_output\n",
    "\n",
    "\n",
    "config_file = 'ssd_mobilenet_v3_large_coco_2020_01_14.pbtxt'\n",
    "frozen_model = 'frozen_inference_graph.pb'\n",
    "\n",
    "model = cv2.dnn_DetectionModel(frozen_model, config_file)\n",
    "\n",
    "classLabels = []\n",
    "file_name = 'labels.txt'\n",
    "with open(file_name, 'rt') as fpt:\n",
    "    classLabels = fpt.read().rstrip('\\n').split('\\n')\n"
   ]
  },
  {
   "cell_type": "code",
   "execution_count": 2,
   "metadata": {},
   "outputs": [
    {
     "name": "stdout",
     "output_type": "stream",
     "text": [
      "['person', 'bicycle', 'car', 'motorbike', 'aeroplane', 'bus', 'train', 'truck', 'boat', 'traffic light', 'fire hydrant', 'stop sign', 'parking meter', 'bench', 'bird', 'cat', 'dog', 'horse', 'sheep', 'cow', 'elephant', 'bear', 'zebra', 'giraffe', 'backpack', 'umbrella', 'handbag', 'tie', 'suitcase', 'frisbee', 'skis', 'snowboard', 'sports ball', 'kite', 'baseball bat', 'baseball glove', 'skateboard', 'surfboard', 'tennis racket', 'bottle', 'wine glass', 'cup', 'fork', 'knife', 'spoon', 'bowl', 'banana', 'apple', 'sandwich', 'orange', 'broccoli', 'carrot', 'hot dog', 'pizza', 'donut', 'cake', 'chair', 'sofa', 'pottedplant', 'bed', 'diningtable', 'toilet', 'tvmonitor', 'laptop', 'mouse', 'remote', 'keyboard', 'cell phone', 'microwave', 'oven', 'toaster', 'sink', 'refrigerator', 'book', 'clock', 'vase', 'scissors', 'teddy bear', 'hair drier', 'toothbrush']\n"
     ]
    }
   ],
   "source": [
    "print(classLabels)"
   ]
  },
  {
   "cell_type": "code",
   "execution_count": 3,
   "metadata": {},
   "outputs": [
    {
     "data": {
      "text/plain": [
       "< cv2.dnn.Model 00000219B8C23170>"
      ]
     },
     "execution_count": 3,
     "metadata": {},
     "output_type": "execute_result"
    }
   ],
   "source": [
    "model.setInputSize(320, 320)\n",
    "model.setInputScale(1.0/127.5)\n",
    "model.setInputMean((127.5, 127.5, 127.5))\n",
    "model.setInputSwapRB(True)"
   ]
  },
  {
   "cell_type": "code",
   "execution_count": 5,
   "metadata": {},
   "outputs": [
    {
     "name": "stdout",
     "output_type": "stream",
     "text": [
      "[337 455 197 148]\n",
      "[862 416 156 152]\n",
      "[321 426  43  67]\n",
      "{'car': array([337, 455, 197, 148]), 'truck': array([862, 416, 156, 152]), 'person': array([321, 426,  43,  67])}\n"
     ]
    }
   ],
   "source": [
    "# test_video.mp4\n",
    "# video\n",
    "import math\n",
    "cap = cv2.VideoCapture(\"test.mp4\")\n",
    "if not cap.isOpened():\n",
    "    cap = cv2.VideoCapture(0)\n",
    "if not cap.isOpened():\n",
    "    raise IOError(\"Can’t open the video\")\n",
    "\n",
    "font_scale = 1\n",
    "font = cv2.FONT_HERSHEY_PLAIN\n",
    "\n",
    "while True:\n",
    "    ret, frame = cap.read()\n",
    "    objects = {}\n",
    "\n",
    "    frame_height, frame_width, _ = frame.shape\n",
    "    frame_centerX, frame_centerY = frame_width//2, frame_height//2\n",
    "    reduce = 25\n",
    "    range_xs, range_xe, range_ys, range_ye = frame_centerX - (frame_width*reduce/100), frame_centerX + (\n",
    "        frame_width*reduce/100), frame_centerY - (frame_height*reduce/100), frame_centerY + (frame_height*reduce/100)\n",
    "    range_box = np.array([range_xs, range_ys, range_xe - range_xs, range_ye - range_ys\n",
    "                          ], dtype=int)\n",
    "    ClassIndex, confidence, bbox = model.detect(frame, confThreshold=0.55)\n",
    "\n",
    "    # print(ClassIndex)\n",
    "\n",
    "    if (len(ClassIndex) != 0):\n",
    "        for ClassInd, conf, boxes in zip(ClassIndex.flatten(), confidence.flatten(), bbox):\n",
    "            if (ClassInd <= 80):\n",
    "                label, ratio = classLabels[ClassInd-1], boxes[2]/boxes[3]\n",
    "                object_centerX, object_centerY = (math.floor(\n",
    "                    boxes[0]+(boxes[2]/2)), math.floor(boxes[1]+(boxes[3]/2)))\n",
    "                cv2.rectangle(frame, range_box, (255, 0, 0), 2)\n",
    "                cv2.putText(frame, label, (object_centerX,object_centerY),\n",
    "                            font, fontScale=font_scale, color=(0, 255, 255), thickness=3)\n",
    "                if (range_xs<object_centerX and object_centerX < range_xe) and (range_xs<object_centerY and object_centerY < range_xe):\n",
    "                    cv2.circle(frame, (object_centerX, object_centerY),\n",
    "                           3, color=(0, 0, 255), thickness=4)\n",
    "                    if label in objects.keys():\n",
    "                        _bbox = objects[label]\n",
    "                        if _bbox[2] < boxes[2] or _bbox[3] < boxes[3]:\n",
    "                            objects[label] = boxes\n",
    "                    else:\n",
    "                        objects[label] = boxes\n",
    "                \n",
    "        for box in objects.values():\n",
    "            print(box)\n",
    "            cv2.circle(frame, (box[0] + box[2]//2,box[1] + box[3]//2),\n",
    "                    3, color=(0, 255, 0), thickness=4)\n",
    "        print(objects)\n",
    "        clear_output(wait=True)  \n",
    "\n",
    "\n",
    "    cv2.imshow('Object Detection', frame)\n",
    "\n",
    "    # cv2.waitKey(0)\n",
    "\n",
    "    if cv2.waitKey(1) & 0XFF == ord('q'):\n",
    "        break\n",
    "\n",
    "cap.release()\n",
    "cv2.destroyAllWindows()"
   ]
  }
 ],
 "metadata": {
  "kernelspec": {
   "display_name": "Python 3",
   "language": "python",
   "name": "python3"
  },
  "language_info": {
   "codemirror_mode": {
    "name": "ipython",
    "version": 3
   },
   "file_extension": ".py",
   "mimetype": "text/x-python",
   "name": "python",
   "nbconvert_exporter": "python",
   "pygments_lexer": "ipython3",
   "version": "3.10.5"
  }
 },
 "nbformat": 4,
 "nbformat_minor": 2
}
